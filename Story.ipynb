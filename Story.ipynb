{
  "nbformat": 4,
  "nbformat_minor": 0,
  "metadata": {
    "colab": {
      "provenance": [],
      "authorship_tag": "ABX9TyMhXI0w18RzqzEiSPJl66V9",
      "include_colab_link": true
    },
    "kernelspec": {
      "name": "python3",
      "display_name": "Python 3"
    },
    "language_info": {
      "name": "python"
    }
  },
  "cells": [
    {
      "cell_type": "markdown",
      "metadata": {
        "id": "view-in-github",
        "colab_type": "text"
      },
      "source": [
        "<a href=\"https://colab.research.google.com/github/ubiodee/AI_For_Beginers/blob/main/Story.ipynb\" target=\"_parent\"><img src=\"https://colab.research.google.com/assets/colab-badge.svg\" alt=\"Open In Colab\"/></a>"
      ]
    },
    {
      "cell_type": "code",
      "source": [
        "!pip install openai==0.27.0"
      ],
      "metadata": {
        "colab": {
          "base_uri": "https://localhost:8080/"
        },
        "id": "QJ_vNDrmvUs6",
        "outputId": "e9c2dd4d-6952-49e5-c977-05706a56684f"
      },
      "execution_count": null,
      "outputs": [
        {
          "output_type": "stream",
          "name": "stdout",
          "text": [
            "Requirement already satisfied: openai==0.27.0 in /usr/local/lib/python3.11/dist-packages (0.27.0)\n",
            "Requirement already satisfied: requests>=2.20 in /usr/local/lib/python3.11/dist-packages (from openai==0.27.0) (2.32.3)\n",
            "Requirement already satisfied: tqdm in /usr/local/lib/python3.11/dist-packages (from openai==0.27.0) (4.67.1)\n",
            "Requirement already satisfied: aiohttp in /usr/local/lib/python3.11/dist-packages (from openai==0.27.0) (3.11.15)\n",
            "Requirement already satisfied: charset-normalizer<4,>=2 in /usr/local/lib/python3.11/dist-packages (from requests>=2.20->openai==0.27.0) (3.4.2)\n",
            "Requirement already satisfied: idna<4,>=2.5 in /usr/local/lib/python3.11/dist-packages (from requests>=2.20->openai==0.27.0) (3.10)\n",
            "Requirement already satisfied: urllib3<3,>=1.21.1 in /usr/local/lib/python3.11/dist-packages (from requests>=2.20->openai==0.27.0) (2.4.0)\n",
            "Requirement already satisfied: certifi>=2017.4.17 in /usr/local/lib/python3.11/dist-packages (from requests>=2.20->openai==0.27.0) (2025.4.26)\n",
            "Requirement already satisfied: aiohappyeyeballs>=2.3.0 in /usr/local/lib/python3.11/dist-packages (from aiohttp->openai==0.27.0) (2.6.1)\n",
            "Requirement already satisfied: aiosignal>=1.1.2 in /usr/local/lib/python3.11/dist-packages (from aiohttp->openai==0.27.0) (1.3.2)\n",
            "Requirement already satisfied: attrs>=17.3.0 in /usr/local/lib/python3.11/dist-packages (from aiohttp->openai==0.27.0) (25.3.0)\n",
            "Requirement already satisfied: frozenlist>=1.1.1 in /usr/local/lib/python3.11/dist-packages (from aiohttp->openai==0.27.0) (1.6.0)\n",
            "Requirement already satisfied: multidict<7.0,>=4.5 in /usr/local/lib/python3.11/dist-packages (from aiohttp->openai==0.27.0) (6.4.3)\n",
            "Requirement already satisfied: propcache>=0.2.0 in /usr/local/lib/python3.11/dist-packages (from aiohttp->openai==0.27.0) (0.3.1)\n",
            "Requirement already satisfied: yarl<2.0,>=1.17.0 in /usr/local/lib/python3.11/dist-packages (from aiohttp->openai==0.27.0) (1.20.0)\n"
          ]
        }
      ]
    },
    {
      "cell_type": "code",
      "execution_count": null,
      "metadata": {
        "id": "eoJhamsUh0za",
        "colab": {
          "base_uri": "https://localhost:8080/"
        },
        "outputId": "8d499365-ff1f-4841-fe13-156b37f92763"
      },
      "outputs": [
        {
          "output_type": "stream",
          "name": "stdout",
          "text": [
            "You:  A story about Ghana\n",
            "Genre? Drama\n",
            "Main characters? Kwame Nkrumah\n",
            "Themes or settings? Poltics\n",
            "\n",
            "AI Assistant:\n",
            " Kwame Nkrumah strode purposefully through the crowded streets of Accra, his mind filled with thoughts of revolution and change. As the leader of the Gold Coast's fight for independence from British rule, he knew that his every move was being watched and scrutinized by those who opposed him.\n",
            "\n",
            "But Nkrumah was undeterred. He had a vision for his country, a vision of a united Ghana where all citizens had equal rights and opportunities. And he was willing to do whatever it took to make that vision a reality.\n",
            "\n",
            "As he made his way to the Parliament building, Nkrumah couldn't help but feel a sense of unease. The political landscape in Ghana was fraught with tension and rivalries, and he knew that his enemies were always looking for a way to undermine him.\n",
            "\n",
            "Inside the chambers, Nkrumah faced a sea of skeptical faces. His fellow politicians, many of whom had once been his allies, now seemed to be turning against him. They whispered behind his back, spreading rumors and lies in an attempt to discredit him.\n",
            "\n",
            "But Nkrumah remained steadfast. He knew that the path to true change was never easy, and he was prepared to weather whatever storms came his way.\n",
            "\n",
            "As the debate raged on, Nkrumah rose to his feet, his voice strong and steady. He spoke of the sacrifices that had been made for Ghana's independence, of the struggles that had brought them to this point. And he declared that he would not rest until every citizen of Ghana had the rights and freedoms they deserved.\n",
            "\n",
            "His words resonated through the chamber, silencing his detractors and inspiring his supporters. And as he spoke, Nkrumah knew that he had the strength and determination to see his vision through to the end.\n",
            "\n",
            "The road ahead would be long and difficult, but Nkrumah was ready. He would continue to fight for Ghana's independence, for its people, and for the dream of a truly free and united nation. And nothing would stand in his way.\n"
          ]
        }
      ],
      "source": [
        "import os\n",
        "import openai\n",
        "\n",
        "# Set the API key directly or retrieve from environment variable\n",
        "# openai.api_key = os.getenv(\"OPENAI_API_KEY\")  # Uncomment this if you have set the environment variable\n",
        "openai.api_key = \" \"\n",
        "# Define STORY_TEMPLATE and TEACH_TEMPLATE\n",
        "STORY_TEMPLATE = \"Write a {{ genre }} story about {{ characters }} with themes of {{ themes }}.\"\n",
        "TEACH_TEMPLATE = \"Answer the user question: {{ user_question }}\"\n",
        "\n",
        "def classify_intent(message: str) -> str:\n",
        "    # Very simple keyword router\n",
        "    if any(k in message.lower() for k in [\"how do i\", \"code\", \"python\", \"api\"]):\n",
        "        return \"teach\"\n",
        "    return \"story\"\n",
        "\n",
        "def generate_response(message: str, intent: str, params: dict = {}):\n",
        "    if intent == \"teach\":\n",
        "        prompt = TEACH_TEMPLATE.replace(\"{{ user_question }}\", message)\n",
        "        model = \"gpt-4\" # This may need to change to 'davinci' for older versions of the openai library\n",
        "    else:\n",
        "        prompt = STORY_TEMPLATE \\\n",
        "            .replace(\"{{ genre }}\", params.get(\"genre\",\"drama\")) \\\n",
        "            .replace(\"{{ characters }}\", params.get(\"characters\",\"\")) \\\n",
        "            .replace(\"{{ themes }}\", params.get(\"themes\",\"\"))\n",
        "        model = \"gpt-3.5-turbo\" # This may need to change to 'text-davinci-003' for older versions of the openai library\n",
        "    resp = openai.ChatCompletion.create( # This remains `openai.ChatCompletion.create` for 0.27.0 of the openai library and before\n",
        "        model=model,\n",
        "        messages=[{\"role\":\"system\",\"content\":prompt}]\n",
        "    )\n",
        "    return resp.choices[0].message.content\n",
        "\n",
        "if __name__ == \"__main__\":\n",
        "    user_input = input(\"You:  \")\n",
        "    intent = classify_intent(user_input)\n",
        "    extra = {}\n",
        "    if intent == \"story\":\n",
        "        extra[\"genre\"] = input(\"Genre? \")\n",
        "        extra[\"characters\"] = input(\"Main characters? \")\n",
        "        extra[\"themes\"] = input(\"Themes or settings? \")\n",
        "    answer = generate_response(user_input, intent, extra)\n",
        "    print(\"\\nAI Assistant:\\n\", answer)"
      ]
    }
  ]
}